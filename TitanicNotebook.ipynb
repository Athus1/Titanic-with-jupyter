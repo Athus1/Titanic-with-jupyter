{
 "cells": [
  {
   "cell_type": "code",
   "execution_count": 6,
   "id": "155537c2",
   "metadata": {},
   "outputs": [
    {
     "data": {
      "application/vnd.jupyter.widget-view+json": {
       "model_id": "b04c0feaa2a2435a9126cb102718a8f7",
       "version_major": 2,
       "version_minor": 0
      },
      "text/plain": [
       "Checkbox(value=False, description='Mortality Filter', indent=False)"
      ]
     },
     "metadata": {},
     "output_type": "display_data"
    },
    {
     "data": {
      "application/vnd.jupyter.widget-view+json": {
       "model_id": "de04439388e444b9b7002640ba9f7fb5",
       "version_major": 2,
       "version_minor": 0
      },
      "text/plain": [
       "Checkbox(value=False, description='Age Filter', indent=False)"
      ]
     },
     "metadata": {},
     "output_type": "display_data"
    },
    {
     "data": {
      "application/vnd.jupyter.widget-view+json": {
       "model_id": "5fde279bf2aa4d649e5453acf5512129",
       "version_major": 2,
       "version_minor": 0
      },
      "text/plain": [
       "Checkbox(value=False, description='Gender Filter', indent=False)"
      ]
     },
     "metadata": {},
     "output_type": "display_data"
    },
    {
     "name": "stdout",
     "output_type": "stream",
     "text": [
      "type anything to continue after checking the right boxes: c\n"
     ]
    },
    {
     "data": {
      "text/plain": [
       "'c'"
      ]
     },
     "execution_count": 6,
     "metadata": {},
     "output_type": "execute_result"
    }
   ],
   "source": [
    "import ipywidgets as widgets\n",
    "import time\n",
    "import pandas as pd\n",
    "import matplotlib.pyplot as plt\n",
    "\n",
    "\n",
    "origindf = pd.read_csv(r'https://raw.githubusercontent.com/datasciencedojo/datasets/master/titanic.csv')\n",
    "testerdf = pd.read_csv(r'https://raw.githubusercontent.com/datasciencedojo/datasets/master/titanic.csv')\n",
    "\n",
    "del origindf[\"Ticket\"], origindf[\"PassengerId\"], origindf[\"Parch\"], origindf[\"SibSp\"], origindf[\"Fare\"], origindf[\"Cabin\"], \\\n",
    "    origindf[\"Embarked\"], origindf[\"Pclass\"]\n",
    "\n",
    "\n",
    "def alive_filter(life_status, df):\n",
    "    if str(life_status) == \"alive\":\n",
    "        df = df[df['Survived'] == 1]\n",
    "        return df\n",
    "    elif str(life_status) == \"dead\":\n",
    "        df = df[df['Survived'] == 0]\n",
    "        return df\n",
    "    else:\n",
    "        print(\"bad value\")\n",
    "\n",
    "\n",
    "def age_filter(age_range, df):\n",
    "    df = df[(df['Age'].isin(age_range))]\n",
    "    return df\n",
    "\n",
    "\n",
    "def gender_filter(gender, df):\n",
    "    if str(gender) == \"male\":\n",
    "        df = df[df['Sex'] == \"male\"]\n",
    "        print(df)\n",
    "        return df\n",
    "    elif str(gender) == \"female\":\n",
    "        df = df[df['Sex'] == \"female\"]\n",
    "        return df\n",
    "    else:\n",
    "        print(\"bad value\")\n",
    "        \n",
    "a = widgets.Checkbox(\n",
    "    value=False,\n",
    "    description='Mortality Filter',\n",
    "    disabled=False,\n",
    "    indent=False\n",
    ")\n",
    "b = widgets.Checkbox(\n",
    "    value=False,\n",
    "    description='Age Filter',\n",
    "    disabled=False,\n",
    "    indent=False\n",
    ")\n",
    "c = widgets.Checkbox(\n",
    "    value=False,\n",
    "    description='Gender Filter',\n",
    "    disabled=False,\n",
    "    indent=False\n",
    ")\n",
    "display(a)\n",
    "display(b)\n",
    "display(c)\n",
    "input(\"type anything to continue after checking the right boxes: \")\n"
   ]
  },
  {
   "cell_type": "code",
   "execution_count": 7,
   "id": "be1311ba",
   "metadata": {},
   "outputs": [
    {
     "name": "stdout",
     "output_type": "stream",
     "text": [
      "male or female: male\n",
      "     Survived                            Name   Sex   Age\n",
      "0           0         Braund, Mr. Owen Harris  male  22.0\n",
      "4           0        Allen, Mr. William Henry  male  35.0\n",
      "5           0                Moran, Mr. James  male   NaN\n",
      "6           0         McCarthy, Mr. Timothy J  male  54.0\n",
      "7           0  Palsson, Master. Gosta Leonard  male   2.0\n",
      "..        ...                             ...   ...   ...\n",
      "883         0   Banfield, Mr. Frederick James  male  28.0\n",
      "884         0          Sutehall, Mr. Henry Jr  male  25.0\n",
      "886         0           Montvila, Rev. Juozas  male  27.0\n",
      "889         1           Behr, Mr. Karl Howell  male  26.0\n",
      "890         0             Dooley, Mr. Patrick  male  32.0\n",
      "\n",
      "[577 rows x 4 columns]\n"
     ]
    }
   ],
   "source": [
    "if a.value == True:\n",
    "    origindf = alive_filter(input(\"alive or dead: \"), origindf)\n",
    "\n",
    "if b.value == True:\n",
    "    minage = input(\"min age: \")\n",
    "    maxage = input(\"max age: \")\n",
    "    origindf = age_filter(range(int(minage),(int(maxage)+1)), origindf)\n",
    "\n",
    "what_gender = 1\n",
    "if c.value == True:\n",
    "    what_gender = input(\"male or female: \")\n",
    "    origindf = gender_filter(str(what_gender), origindf)"
   ]
  },
  {
   "cell_type": "code",
   "execution_count": 9,
   "id": "6be2c8a6",
   "metadata": {},
   "outputs": [
    {
     "name": "stdout",
     "output_type": "stream",
     "text": [
      "     Survived                            Name   Sex   Age\n",
      "0           0         Braund, Mr. Owen Harris  male  22.0\n",
      "4           0        Allen, Mr. William Henry  male  35.0\n",
      "5           0                Moran, Mr. James  male   NaN\n",
      "6           0         McCarthy, Mr. Timothy J  male  54.0\n",
      "7           0  Palsson, Master. Gosta Leonard  male   2.0\n",
      "..        ...                             ...   ...   ...\n",
      "883         0   Banfield, Mr. Frederick James  male  28.0\n",
      "884         0          Sutehall, Mr. Henry Jr  male  25.0\n",
      "886         0           Montvila, Rev. Juozas  male  27.0\n",
      "889         1           Behr, Mr. Karl Howell  male  26.0\n",
      "890         0             Dooley, Mr. Patrick  male  32.0\n",
      "\n",
      "[577 rows x 4 columns]\n"
     ]
    },
    {
     "data": {
      "image/png": "[encoded data removed]",
      "text/plain": [
       "<Figure size 432x288 with 1 Axes>"
      ]
     },
     "metadata": {
      "needs_background": "light"
     },
     "output_type": "display_data"
    },
    {
     "data": {
      "text/html": [
       "<div>\n",
       "<style scoped>\n",
       "    .dataframe tbody tr th:only-of-type {\n",
       "        vertical-align: middle;\n",
       "    }\n",
       "\n",
       "    .dataframe tbody tr th {\n",
       "        vertical-align: top;\n",
       "    }\n",
       "\n",
       "    .dataframe thead th {\n",
       "        text-align: right;\n",
       "    }\n",
       "</style>\n",
       "<table border=\"1\" class=\"dataframe\">\n",
       "  <thead>\n",
       "    <tr style=\"text-align: right;\">\n",
       "      <th></th>\n",
       "      <th>Survived</th>\n",
       "    </tr>\n",
       "    <tr>\n",
       "      <th>Sex</th>\n",
       "      <th></th>\n",
       "    </tr>\n",
       "  </thead>\n",
       "  <tbody>\n",
       "    <tr>\n",
       "      <th>male</th>\n",
       "      <td>0.188908</td>\n",
       "    </tr>\n",
       "  </tbody>\n",
       "</table>\n",
       "</div>"
      ],
      "text/plain": [
       "      Survived\n",
       "Sex           \n",
       "male  0.188908"
      ]
     },
     "metadata": {},
     "output_type": "display_data"
    },
    {
     "data": {
      "image/png": "[encoded data removed]",
      "text/plain": [
       "<Figure size 432x288 with 1 Axes>"
      ]
     },
     "metadata": {
      "needs_background": "light"
     },
     "output_type": "display_data"
    }
   ],
   "source": [
    "print(origindf)\n",
    "\n",
    "\n",
    "plt.hist(origindf.Age, rwidth=0.7)\n",
    "plt.xlabel(\"Age\")\n",
    "plt.ylabel(\"Age Disribution\")\n",
    "plt.title(\"Age Distribution Histogram\")\n",
    "plt.show()\n",
    "\n",
    "\n",
    "piedf = origindf.groupby(['Sex'], group_keys=False).mean()[['Survived']]\n",
    "display(piedf)\n",
    "if what_gender == 1:\n",
    "    piedf.Survived[0] = piedf.Survived[0] * 100\n",
    "    piedf.Survived[1] = piedf.Survived[1] * 100\n",
    "    data = {'female': piedf.Survived['female'], 'male': piedf.Survived['male']}\n",
    "elif what_gender == \"male\":\n",
    "    piedf.Survived['male'] = piedf.Survived['male'] * 100\n",
    "    data = {'male': piedf.Survived['male']}\n",
    "elif what_gender == \"female\":\n",
    "    piedf.Survived['female'] = piedf.Survived['female'] * 100\n",
    "    data = {'female': piedf.Survived['female']}\n",
    "    \n",
    "\n",
    "genderkeys = list(data.keys())\n",
    "values = list(data.values())\n",
    "   \n",
    "plt.bar(genderkeys, values)\n",
    " \n",
    "plt.xlabel(\"genders\")\n",
    "plt.ylabel(\"Survival rate (as a percent)\")\n",
    "plt.title(\"Survival rate of women vs men\")\n",
    "plt.show()"
   ]
  },
  {
   "cell_type": "code",
   "execution_count": null,
   "id": "952c508a",
   "metadata": {},
   "outputs": [],
   "source": []
  }
 ],
 "metadata": {
  "kernelspec": {
   "display_name": "Python 3 (ipykernel)",
   "language": "python",
   "name": "python3"
  },
  "language_info": {
   "codemirror_mode": {
    "name": "ipython",
    "version": 3
   },
   "file_extension": ".py",
   "mimetype": "text/x-python",
   "name": "python",
   "nbconvert_exporter": "python",
   "pygments_lexer": "ipython3",
   "version": "3.9.12"
  }
 },
 "nbformat": 4,
 "nbformat_minor": 5
}
