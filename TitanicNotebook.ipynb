{
 "cells": [
  {
   "cell_type": "code",
   "execution_count": 1,
   "id": "ef6be09f",
   "metadata": {
    "scrolled": true
   },
   "outputs": [
    {
     "data": {
      "application/vnd.jupyter.widget-view+json": {
       "model_id": "572d89ff20024224baea22daf672a616",
       "version_major": 2,
       "version_minor": 0
      },
      "text/plain": [
       "Checkbox(value=False, description='Mortality Filter', indent=False)"
      ]
     },
     "metadata": {},
     "output_type": "display_data"
    },
    {
     "data": {
      "application/vnd.jupyter.widget-view+json": {
       "model_id": "069c10b9cbe9480a9f64b81164b31d39",
       "version_major": 2,
       "version_minor": 0
      },
      "text/plain": [
       "Checkbox(value=False, description='Age Filter', indent=False)"
      ]
     },
     "metadata": {},
     "output_type": "display_data"
    },
    {
     "data": {
      "application/vnd.jupyter.widget-view+json": {
       "model_id": "8d2928c542644513916e6d188da59127",
       "version_major": 2,
       "version_minor": 0
      },
      "text/plain": [
       "Checkbox(value=False, description='Gender Filter', indent=False)"
      ]
     },
     "metadata": {},
     "output_type": "display_data"
    },
    {
     "name": "stdout",
     "output_type": "stream",
     "text": [
      "type anything to continue after checking the right boxes: \n"
     ]
    },
    {
     "data": {
      "text/plain": [
       "''"
      ]
     },
     "execution_count": 1,
     "metadata": {},
     "output_type": "execute_result"
    }
   ],
   "source": [
    "from IPython.display import display\n",
    "import ipywidgets as widgets\n",
    "import time\n",
    "import pandas as pd\n",
    "import matplotlib.pyplot as plt\n",
    "\n",
    "\n",
    "orgindf = pd.read_csv(r'https://raw.githubusercontent.com/datasciencedojo/datasets/master/titanic.csv')\n",
    "testerdf = pd.read_csv(r'https://raw.githubusercontent.com/datasciencedojo/datasets/master/titanic.csv')\n",
    "\n",
    "del orgindf[\"Ticket\"], orgindf[\"PassengerId\"], orgindf[\"Parch\"], orgindf[\"SibSp\"], orgindf[\"Fare\"], orgindf[\"Cabin\"], \\\n",
    "    orgindf[\"Embarked\"], orgindf[\"Pclass\"]\n",
    "\n",
    "\n",
    "def alive_filter(life_status, df):\n",
    "    if str(life_status) == \"alive\":\n",
    "        df = df[df['Survived'] == 1]\n",
    "        return df\n",
    "    elif str(life_status) == \"dead\":\n",
    "        df = df[df['Survived'] == 0]\n",
    "        return df\n",
    "    else:\n",
    "        print(\"bad value\")\n",
    "\n",
    "\n",
    "def age_filter(age_range, df):\n",
    "    df = df[(df['Age'].isin(age_range))]\n",
    "    return df\n",
    "\n",
    "\n",
    "def gender_filter(gender, df):\n",
    "    if str(gender) == \"male\":\n",
    "        df = df[df['Sex'] == \"male\"]\n",
    "        print(df)\n",
    "        return df\n",
    "    elif str(gender) == \"female\":\n",
    "        df = df[df['Sex'] == \"female\"]\n",
    "        return df\n",
    "    else:\n",
    "        print(\"bad value\")\n",
    "        \n",
    "a = widgets.Checkbox(\n",
    "    value=False,\n",
    "    description='Mortality Filter',\n",
    "    disabled=False,\n",
    "    indent=False\n",
    ")\n",
    "b = widgets.Checkbox(\n",
    "    value=False,\n",
    "    description='Age Filter',\n",
    "    disabled=False,\n",
    "    indent=False\n",
    ")\n",
    "c = widgets.Checkbox(\n",
    "    value=False,\n",
    "    description='Gender Filter',\n",
    "    disabled=False,\n",
    "    indent=False\n",
    ")\n",
    "display(a)\n",
    "display(b)\n",
    "display(c)\n",
    "input(\"type anything to continue after checking the right boxes: \")"
   ]
  },
  {
   "cell_type": "code",
   "execution_count": 2,
   "id": "01e94c2a",
   "metadata": {},
   "outputs": [],
   "source": [
    "if a.value == True:\n",
    "    orgindf = alive_filter(input(\"alive or dead: \"), orgindf)\n",
    "\n",
    "if b.value == True:\n",
    "    minage = input(\"min age: \")\n",
    "    maxage = input(\"max age: \")\n",
    "    orgindf = age_filter(range(int(minage),(int(maxage)+1)), orgindf)\n",
    "\n",
    "if c.value == True:\n",
    "    orgindf = gender_filter(str(input(\"what gender: \")), orgindf)"
   ]
  },
  {
   "cell_type": "code",
   "execution_count": 3,
   "id": "6be2c8a6",
   "metadata": {},
   "outputs": [
    {
     "name": "stdout",
     "output_type": "stream",
     "text": [
      "     Survived                                               Name     Sex   Age\n",
      "0           0                            Braund, Mr. Owen Harris    male  22.0\n",
      "1           1  Cumings, Mrs. John Bradley (Florence Briggs Th...  female  38.0\n",
      "2           1                             Heikkinen, Miss. Laina  female  26.0\n",
      "3           1       Futrelle, Mrs. Jacques Heath (Lily May Peel)  female  35.0\n",
      "4           0                           Allen, Mr. William Henry    male  35.0\n",
      "..        ...                                                ...     ...   ...\n",
      "886         0                              Montvila, Rev. Juozas    male  27.0\n",
      "887         1                       Graham, Miss. Margaret Edith  female  19.0\n",
      "888         0           Johnston, Miss. Catherine Helen \"Carrie\"  female   NaN\n",
      "889         1                              Behr, Mr. Karl Howell    male  26.0\n",
      "890         0                                Dooley, Mr. Patrick    male  32.0\n",
      "\n",
      "[891 rows x 4 columns]\n"
     ]
    }
   ],
   "source": [
    "print(orgindf)"
   ]
  },
  {
   "cell_type": "code",
   "execution_count": 4,
   "id": "945eea27",
   "metadata": {},
   "outputs": [
    {
     "data": {
      "image/png": "[encoded data removed]",
      "text/plain": [
       "<Figure size 432x288 with 1 Axes>"
      ]
     },
     "metadata": {
      "needs_background": "light"
     },
     "output_type": "display_data"
    }
   ],
   "source": [
    "plt.hist(orgindf.Age, rwidth=0.7)\n",
    "plt.xlabel(\"Age\")\n",
    "plt.ylabel(\"Age Disribution\")\n",
    "plt.title(\"Age Distribution Histogram\")\n",
    "plt.show()"
   ]
  },
  {
   "cell_type": "code",
   "execution_count": 8,
   "id": "1cf4005b",
   "metadata": {},
   "outputs": [
    {
     "data": {
      "text/html": [
       "<div>\n",
       "<style scoped>\n",
       "    .dataframe tbody tr th:only-of-type {\n",
       "        vertical-align: middle;\n",
       "    }\n",
       "\n",
       "    .dataframe tbody tr th {\n",
       "        vertical-align: top;\n",
       "    }\n",
       "\n",
       "    .dataframe thead th {\n",
       "        text-align: right;\n",
       "    }\n",
       "</style>\n",
       "<table border=\"1\" class=\"dataframe\">\n",
       "  <thead>\n",
       "    <tr style=\"text-align: right;\">\n",
       "      <th></th>\n",
       "      <th>Survived</th>\n",
       "    </tr>\n",
       "    <tr>\n",
       "      <th>Sex</th>\n",
       "      <th></th>\n",
       "    </tr>\n",
       "  </thead>\n",
       "  <tbody>\n",
       "    <tr>\n",
       "      <th>female</th>\n",
       "      <td>0.742038</td>\n",
       "    </tr>\n",
       "    <tr>\n",
       "      <th>male</th>\n",
       "      <td>0.188908</td>\n",
       "    </tr>\n",
       "  </tbody>\n",
       "</table>\n",
       "</div>"
      ],
      "text/plain": [
       "        Survived\n",
       "Sex             \n",
       "female  0.742038\n",
       "male    0.188908"
      ]
     },
     "metadata": {},
     "output_type": "display_data"
    }
   ],
   "source": [
    "piedf = orgindf.groupby(['Sex']).mean()[['Survived']]\n",
    "display(piedf)"
   ]
  },
  {
   "cell_type": "code",
   "execution_count": 25,
   "id": "1889ce39",
   "metadata": {},
   "outputs": [
    {
     "data": {
      "image/png": "[encoded data removed]",
      "text/plain": [
       "<Figure size 432x288 with 1 Axes>"
      ]
     },
     "metadata": {
      "needs_background": "light"
     },
     "output_type": "display_data"
    }
   ],
   "source": [
    "#MAKE THIS FAILSAFE\n",
    "data = {'female': piedf.Survived[0], 'male': piedf.Survived[1]}\n",
    "courses = list(data.keys())\n",
    "values = list(data.values())\n",
    "   \n",
    "# creating the bar plot\n",
    "plt.bar(courses, values)\n",
    " \n",
    "plt.xlabel(\"genders\")\n",
    "plt.ylabel(\"Survival rate\")\n",
    "plt.title(\"Survival rate of women vs men\")\n",
    "plt.show()"
   ]
  },
  {
   "cell_type": "code",
   "execution_count": null,
   "id": "c0933242",
   "metadata": {},
   "outputs": [],
   "source": []
  }
 ],
 "metadata": {
  "kernelspec": {
   "display_name": "Python 3 (ipykernel)",
   "language": "python",
   "name": "python3"
  },
  "language_info": {
   "codemirror_mode": {
    "name": "ipython",
    "version": 3
   },
   "file_extension": ".py",
   "mimetype": "text/x-python",
   "name": "python",
   "nbconvert_exporter": "python",
   "pygments_lexer": "ipython3",
   "version": "3.9.12"
  }
 },
 "nbformat": 4,
 "nbformat_minor": 5
}
